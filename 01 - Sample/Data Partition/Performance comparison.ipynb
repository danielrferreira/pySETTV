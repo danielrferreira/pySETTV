{
 "cells": [
  {
   "cell_type": "code",
   "execution_count": 1,
   "id": "bc957c74-0ec0-4c48-a103-431f51d29fbf",
   "metadata": {},
   "outputs": [],
   "source": [
    "import pandas as pd\n",
    "import numpy as np"
   ]
  },
  {
   "cell_type": "code",
   "execution_count": 2,
   "id": "a92d394c-a959-49fe-8875-0ab80d70dbc3",
   "metadata": {},
   "outputs": [],
   "source": [
    "# only pandas\n",
    "def data_partition1(data, train_ratio=0.5, val_ratio=0.5, test_ratio=0, seed=420):\n",
    "    '''This function splits the data into train, validation and test, it return 2 data frames if test_ratio=0 or 3 data frames if test_ratio>0'''\n",
    "    data_shuffle = data.sample(frac=1, random_state=seed).reset_index(drop=True)\n",
    "    if test_ratio==0:\n",
    "        train_size = int(train_ratio * len(data))\n",
    "        val_size = len(data) - train_size\n",
    "        #print(f'Two splits created. Train ({train_size} observations and Validation ({val_size} observations.')\n",
    "        return data_shuffle[:train_size],data_shuffle[train_size:train_size + val_size]\n",
    "    else:\n",
    "        train_size = int(train_ratio * len(data))\n",
    "        val_size = int(val_ratio * len(data))\n",
    "        test_size = len(data) - train_size - val_size\n",
    "        #print(f'Three splits created. Train ({train_size} observations), Validation ({val_size} observations) and test ({test_size}).')\n",
    "        return data_shuffle[:train_size], data_shuffle[train_size:train_size + val_size], data_shuffle[train_size + val_size:]\n"
   ]
  },
  {
   "cell_type": "code",
   "execution_count": 3,
   "id": "5c2ecbe2-1d16-483b-9a9e-7e76d8519c13",
   "metadata": {},
   "outputs": [],
   "source": [
    "#numpy and pandas\n",
    "def data_partition2(data, train_ratio=0.5, val_ratio=0.5, test_ratio=0, seed=420):\n",
    "    '''This function splits the data into train, validation and test, it return 2 data frames if test_ratio=0 or 3 data frames if test_ratio>0'''\n",
    "    data_array = data.to_numpy()\n",
    "    np.random.seed(seed)\n",
    "    np.random.shuffle(data_array)\n",
    "    data_shuffle = pd.DataFrame(data_array, columns=data.columns)\n",
    "    if test_ratio==0:\n",
    "        train_size = int(train_ratio * len(data))\n",
    "        val_size = len(data) - train_size\n",
    "        #print(f'Two splits created. Train ({train_size} observations and Validation ({val_size} observations.')\n",
    "        return data_shuffle[:train_size],data_shuffle[train_size:train_size + val_size]\n",
    "    else:\n",
    "        train_size = int(train_ratio * len(data))\n",
    "        val_size = int(val_ratio * len(data))\n",
    "        test_size = len(data) - train_size - val_size\n",
    "        #print(f'Three splits created. Train ({train_size} observations), Validation ({val_size} observations) and test ({test_size}).')\n",
    "        return data_shuffle[:train_size], data_shuffle[train_size:train_size + val_size], data_shuffle[train_size + val_size:]"
   ]
  },
  {
   "cell_type": "code",
   "execution_count": 4,
   "id": "3f6bcae4-ddb5-4e2f-a682-ce8027c4ca3e",
   "metadata": {},
   "outputs": [],
   "source": [
    "baseball = pd.read_csv('/Users/danielferreira/Documents/repositories/pySTETV/Sample/Data Partition/baseball_stats_batting_2020_2023.csv')"
   ]
  },
  {
   "cell_type": "code",
   "execution_count": 5,
   "id": "a4605222-51d7-4446-9d2b-d3b5353a44ce",
   "metadata": {},
   "outputs": [
    {
     "name": "stdout",
     "output_type": "stream",
     "text": [
      "223 µs ± 1.5 µs per loop (mean ± std. dev. of 7 runs, 1,000 loops each)\n"
     ]
    }
   ],
   "source": [
    "%timeit bb_train, bb_val, bb_test = data_partition1(baseball,train_ratio=0.7,val_ratio=0.15,test_ratio=0.15) "
   ]
  },
  {
   "cell_type": "code",
   "execution_count": 6,
   "id": "c5ed4af2-1ba8-4cff-b8fc-00e0bef9ea28",
   "metadata": {},
   "outputs": [
    {
     "name": "stdout",
     "output_type": "stream",
     "text": [
      "1.72 ms ± 9.37 µs per loop (mean ± std. dev. of 7 runs, 1,000 loops each)\n"
     ]
    }
   ],
   "source": [
    "%timeit bb_train, bb_val, bb_test = data_partition2(baseball,train_ratio=0.7,val_ratio=0.15,test_ratio=0.15) \n"
   ]
  }
 ],
 "metadata": {
  "kernelspec": {
   "display_name": "Python 3 (ipykernel)",
   "language": "python",
   "name": "python3"
  },
  "language_info": {
   "codemirror_mode": {
    "name": "ipython",
    "version": 3
   },
   "file_extension": ".py",
   "mimetype": "text/x-python",
   "name": "python",
   "nbconvert_exporter": "python",
   "pygments_lexer": "ipython3",
   "version": "3.11.4"
  }
 },
 "nbformat": 4,
 "nbformat_minor": 5
}
