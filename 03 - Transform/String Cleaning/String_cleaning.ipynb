{
 "cells": [
  {
   "cell_type": "markdown",
   "id": "e2470e8b-385e-4762-bece-771892f576c8",
   "metadata": {},
   "source": [
    "# String Cleaning for Text categorization\n",
    "\n",
    "Many times a categorical variable has multiple inputs with typos and special characters that, if cleaned, would reduce the cardinality of the data. This code provide multiple functions + a master function to combine all of then to clean strings. You can change defaults for different results and also decide which operation you need in the master function.\n",
    "\n",
    "### Functions"
   ]
  },
  {
   "cell_type": "code",
   "execution_count": 3,
   "id": "bf1ee1d0-9198-42d0-831f-2e21ff7984f0",
   "metadata": {},
   "outputs": [],
   "source": [
    "def remove_special_chars(text, sc='[~!@#$%^&*+-:,<>?]',rp='_'):\n",
    "    '''This function will replace special characters listed on sc and replace with the rp character (default parameters: sc=[~!@#$%^&*+-:,<>?] rp=_'''\n",
    "    from re import sub\n",
    "    return sub(sc,'_',text)\n",
    "    \n",
    "def truncate(text,max=32):\n",
    "    '''This function will truncate a text to maximun length (default: max=32)'''\n",
    "    if len(text)>max:\n",
    "        return text[0:max-1]\n",
    "    else:\n",
    "        return text\n",
    "    \n",
    "def number_first(text):\n",
    "    '''This function will replace the first character to _ if first character is a number'''\n",
    "    if text[0] in [str(x) for x in range(9)]:\n",
    "        return '_'+text[1:len(text)]\n",
    "    else:\n",
    "        return text\n",
    "\n",
    "def cleaning_strings(text,oper):\n",
    "    '''This function will do all operations listed on clean_ops to the text'''\n",
    "    for func in oper:\n",
    "        text = func(text)\n",
    "    return text"
   ]
  },
  {
   "cell_type": "markdown",
   "id": "8fbf2275-a1d7-4743-98de-2f8c3ae9c996",
   "metadata": {},
   "source": [
    "***\n",
    "### Example of usage\n",
    "First you need to list each one of the functions you need in the clean_ops variable:"
   ]
  },
  {
   "cell_type": "code",
   "execution_count": 4,
   "id": "72f60868-898a-44cf-8725-e6fcc33585da",
   "metadata": {},
   "outputs": [],
   "source": [
    "clean_ops = [remove_special_chars,truncate,number_first, str.strip,str.title]"
   ]
  },
  {
   "cell_type": "markdown",
   "id": "5f91a75a-ec5a-4bb9-8719-e55efae26fe0",
   "metadata": {},
   "source": [
    "example of string list you could apply the master function:"
   ]
  },
  {
   "cell_type": "code",
   "execution_count": 5,
   "id": "7a95c046-5024-473a-8ce3-ff50dd6fb9ab",
   "metadata": {},
   "outputs": [
    {
     "name": "stdout",
     "output_type": "stream",
     "text": [
      "['Askdjhakjsdn_Am Xajsnkjassdjfhs', 'Daskks', '_Xbsdkk_', '__Dezena', 'Das___']\n"
     ]
    }
   ],
   "source": [
    "strings = ['askdjhakjsdn,am xajsnkjassdjfhskjdhfkjsdhfkjshdfjkhdf','  Daskks', '%Xbsdkk&', '8_dezena', 'Das%%2']\n",
    "for i,text in enumerate(strings):\n",
    "    strings[i]=cleaning_strings(strings[i],clean_ops)\n",
    "print(strings)  "
   ]
  },
  {
   "cell_type": "markdown",
   "id": "24baf554-2e1b-4f1f-b2c2-0c390ccc04ff",
   "metadata": {},
   "source": [
    "***"
   ]
  }
 ],
 "metadata": {
  "kernelspec": {
   "display_name": "Python 3 (ipykernel)",
   "language": "python",
   "name": "python3"
  },
  "language_info": {
   "codemirror_mode": {
    "name": "ipython",
    "version": 3
   },
   "file_extension": ".py",
   "mimetype": "text/x-python",
   "name": "python",
   "nbconvert_exporter": "python",
   "pygments_lexer": "ipython3",
   "version": "3.11.4"
  }
 },
 "nbformat": 4,
 "nbformat_minor": 5
}
