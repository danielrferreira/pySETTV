{
 "cells": [
  {
   "cell_type": "markdown",
   "metadata": {},
   "source": [
    "# Model Comparison\n",
    "\n",
    "This notebook examplify how to use the functions in the py file."
   ]
  },
  {
   "cell_type": "code",
   "execution_count": 2,
   "metadata": {},
   "outputs": [],
   "source": [
    "import numpy as np\n",
    "import pandas as pd\n",
    "import seaborn as sns\n",
    "import matplotlib.pyplot as plt\n",
    "from sklearn.metrics import accuracy_score, classification_report, confusion_matrix, roc_curve, auc, mean_squared_error, log_loss\n",
    "from sklearn.linear_model import LogisticRegression\n",
    "from sklearn.neighbors import KNeighborsClassifier\n",
    "from sklearn.ensemble import RandomForestClassifier\n",
    "from sklearn.preprocessing import MinMaxScaler\n",
    "from sklearn.tree import DecisionTreeClassifier\n",
    "import model_comp as mc \n",
    "\n",
    "folder = '/Users/danielferreira/Documents/git/pySETTV/06 - Utility & References/Data'\n",
    "file = 'player_batting_enriched.csv'\n",
    "index = 'player_id'\n",
    "bat = pd.read_csv(folder+'/'+file, index_col=index)\n",
    "train = bat[bat['year']==2021]\n",
    "test = bat[bat['year']==2022]\n",
    "y_train = train['hr_10'].copy()\n",
    "y_test = test['hr_10'].copy()"
   ]
  },
  {
   "cell_type": "code",
   "execution_count": 3,
   "metadata": {},
   "outputs": [],
   "source": [
    "# Model 1 - Logistic Regression without the variable that contains missing\n",
    "X_train = train[['ab', 'batting_avg','r_total_stolen_base']].copy()\n",
    "X_test = test[['ab', 'batting_avg','r_total_stolen_base']].copy()\n",
    "\n",
    "model1 = LogisticRegression()\n",
    "model1.fit(X_train, y_train)\n",
    "model1_pred_train = model1.predict(X_train)\n",
    "model1_prob_train = model1.predict_proba(X_train)[:,1]\n",
    "model1_pred_test = model1.predict(X_test)\n",
    "model1_prob_test = model1.predict_proba(X_test)[:,1]\n",
    "\n",
    "\n",
    "# Model 2 - KNN\n",
    "scaler = MinMaxScaler()\n",
    "X_train = scaler.fit_transform(X_train)\n",
    "X_test = scaler.fit_transform(X_test)\n",
    "\n",
    "model2 = KNeighborsClassifier()\n",
    "model2.fit(X_train, y_train)\n",
    "model2_pred_train = model2.predict(X_train)\n",
    "model2_prob_train = model2.predict_proba(X_train)[:,1]\n",
    "model2_pred_test = model2.predict(X_test)\n",
    "model2_prob_test = model2.predict_proba(X_test)[:,1]\n",
    "\n",
    "model_dict = {'Logistic Regression': [[model1_pred_train, model1_pred_test], [model1_prob_train, model1_prob_test]], 'KNN': [[model2_pred_train, model2_pred_test], [model2_prob_train, model2_prob_test]] }\n",
    "y_actual = [y_train, y_test]"
   ]
  },
  {
   "cell_type": "code",
   "execution_count": 4,
   "metadata": {},
   "outputs": [],
   "source": [
    "import model_comparison as mc \n",
    "problem = mc.problem(\"2022 Home Runs\", model_dict, y_actual)"
   ]
  },
  {
   "cell_type": "code",
   "execution_count": 5,
   "metadata": {},
   "outputs": [
    {
     "data": {
      "text/plain": [
       "{'model_name': 'Logistic Regression no imputation',\n",
       " 'ds': 'Test',\n",
       " 'acc': np.float64(0.8540372670807453),\n",
       " 'miss': np.float64(0.14596273291925466),\n",
       " 'precision_1': np.float64(0.7412280701754386),\n",
       " 'precision_0': np.float64(0.9158653846153846),\n",
       " 'recall_1': np.float64(0.8284313725490197),\n",
       " 'recall_0': np.float64(0.865909090909091),\n",
       " 'f1_1': np.float64(0.7824074074074074),\n",
       " 'f1_0': np.float64(0.8901869158878505),\n",
       " 'roc_auc': np.float64(0.9339460784313725),\n",
       " 'ase': np.float64(0.10235604669628749),\n",
       " 'log_loss_value': np.float64(0.3185214076545152)}"
      ]
     },
     "execution_count": 5,
     "metadata": {},
     "output_type": "execute_result"
    }
   ],
   "source": [
    "problem.stats_1_model_ds(y_test, model1_pred_test, model1_prob_test, 'Logistic Regression no imputation', 'Test')"
   ]
  },
  {
   "cell_type": "code",
   "execution_count": 6,
   "metadata": {},
   "outputs": [
    {
     "name": "stdout",
     "output_type": "stream",
     "text": [
      "0 Logistic Regression 0 Train\n",
      "0 Logistic Regression 1 Test\n",
      "1 KNN 0 Train\n",
      "1 KNN 1 Test\n"
     ]
    }
   ],
   "source": [
    "problem.stat_table()"
   ]
  },
  {
   "cell_type": "code",
   "execution_count": 6,
   "metadata": {},
   "outputs": [],
   "source": [
    "\n",
    "# Model 3 - Logistic Regression with missing imputation\n",
    "X_train = train[['ab','exit_velocity_avg', 'batting_avg','r_total_stolen_base']].copy()\n",
    "X_train['exit_velocity_avg'] = X_train['exit_velocity_avg'].fillna(X_train['exit_velocity_avg'].median())\n",
    "X_test = test[['ab','exit_velocity_avg', 'batting_avg','r_total_stolen_base']].copy()\n",
    "X_test['exit_velocity_avg'] = X_test['exit_velocity_avg'].fillna(X_test['exit_velocity_avg'].median())\n",
    "\n",
    "model3 = LogisticRegression()\n",
    "model3.fit(X_train, y_train)\n",
    "model3_pred = model3.predict(X_test)\n",
    "model3_prob = model3.predict_proba(X_test)\n",
    "\n",
    "# Model 4 - Decision Tree\n",
    "model4 = DecisionTreeClassifier(max_depth=3, min_samples_split=30, min_samples_leaf = 20, max_features=3)\n",
    "model4.fit(X_train, y_train)\n",
    "model4_pred = model4.predict(X_test)\n",
    "model4_prob = model4.predict_proba(X_test)\n",
    "\n",
    "# Model 5 - Random Forest\n",
    "model5 = RandomForestClassifier(random_state=42)\n",
    "model5.fit(X_train,y_train)\n",
    "model5_pred = model5.predict(X_test)\n",
    "model5_prob = model5.predict_proba(X_test)"
   ]
  }
 ],
 "metadata": {
  "kernelspec": {
   "display_name": "base",
   "language": "python",
   "name": "python3"
  },
  "language_info": {
   "codemirror_mode": {
    "name": "ipython",
    "version": 3
   },
   "file_extension": ".py",
   "mimetype": "text/x-python",
   "name": "python",
   "nbconvert_exporter": "python",
   "pygments_lexer": "ipython3",
   "version": "3.11.10"
  }
 },
 "nbformat": 4,
 "nbformat_minor": 2
}
