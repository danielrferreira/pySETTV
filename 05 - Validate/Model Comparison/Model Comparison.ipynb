{
 "cells": [
  {
   "cell_type": "code",
   "execution_count": 2,
   "metadata": {},
   "outputs": [],
   "source": [
    "import numpy as np\n",
    "import pandas as pd\n",
    "import seaborn as sns\n",
    "import matplotlib.pyplot as plt\n",
    "from sklearn.metrics import accuracy_score, classification_report\n",
    "from sklearn.linear_model import LogisticRegression\n",
    "import os\n",
    "folder = '/Users/danielferreira/Documents/git/pySETTV/06 - Utility & References/Data'\n",
    "file = 'player_batting_enriched.csv'\n",
    "index = 'player_id'\n",
    "os.chdir(folder)\n",
    "bat = pd.read_csv(file, index_col=index)\n",
    "train = bat[bat['year']==2021]\n",
    "test = bat[bat['year']==2022]\n",
    "y_train = train['hr_10'].copy()\n",
    "X_train = train[['ab','exit_velocity_avg', 'batting_avg','r_total_stolen_base']].copy()\n",
    "X_train['exit_velocity_avg'] = X_train['exit_velocity_avg'].fillna(X_train['exit_velocity_avg'].median())\n",
    "y_test = test['hr_10'].copy()\n",
    "X_test = test[['ab','exit_velocity_avg', 'batting_avg','r_total_stolen_base']].copy()\n",
    "X_test['exit_velocity_avg'] = X_test['exit_velocity_avg'].fillna(X_test['exit_velocity_avg'].median())"
   ]
  }
 ],
 "metadata": {
  "kernelspec": {
   "display_name": "base",
   "language": "python",
   "name": "python3"
  },
  "language_info": {
   "codemirror_mode": {
    "name": "ipython",
    "version": 3
   },
   "file_extension": ".py",
   "mimetype": "text/x-python",
   "name": "python",
   "nbconvert_exporter": "python",
   "pygments_lexer": "ipython3",
   "version": "3.11.10"
  }
 },
 "nbformat": 4,
 "nbformat_minor": 2
}
