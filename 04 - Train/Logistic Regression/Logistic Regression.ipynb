{
 "cells": [
  {
   "cell_type": "markdown",
   "id": "73353519-d7eb-48a4-b344-24853b588249",
   "metadata": {},
   "source": [
    "# Logistic Regression\n",
    "Logistic Regression uses a link function to confine outcome estimates within the range of 0 and 1. Its interpretability has elevated its status, particularly in highly regulated industries. Additionally, Logistic Regression showcases flexibility by accommodating interactions, polynomial terms, and transformations to model complex relationships. The provided code covers essential aspects of Logistic Regression using sklearn:\n",
    "- Fitting a Logistic Regression model\n",
    "- Analyzing basic fit statistics.\n",
    "- Fine-tuning optimization parameters (solver, max iteration)\n",
    "- Incorporating polynomial and interaction effects\n",
    "- Conducting feature selection\n"
   ]
  },
  {
   "cell_type": "code",
   "execution_count": 1,
   "id": "18a54a73-b3a4-4ce7-882a-8bb987e8e801",
   "metadata": {},
   "outputs": [],
   "source": [
    "# Pre-Process\n",
    "import numpy as np\n",
    "import pandas as pd\n",
    "import seaborn as sns\n",
    "import matplotlib.pyplot as plt\n",
    "\n",
    "from sklearn.model_selection import train_test_split\n",
    "from sklearn.metrics import accuracy_score, classification_report\n",
    "bat = pd.read_csv('player_batting_enriched.csv', index_col='player_id')"
   ]
  },
  {
   "cell_type": "code",
   "execution_count": 2,
   "id": "c1a8b08d-0a97-4773-ae30-4b6df1d30e76",
   "metadata": {},
   "outputs": [],
   "source": [
    "# Data pre-process\n",
    "train = bat[bat['year']==2021]\n",
    "test = bat[bat['year']==2022]\n",
    "y_train = train['hr_10'].copy()\n",
    "X_train = train[['ab','exit_velocity_avg', 'batting_avg','r_total_stolen_base']].copy()\n",
    "X_train['exit_velocity_avg'] = X_train['exit_velocity_avg'].fillna(X_train['exit_velocity_avg'].median())\n",
    "y_test = test['hr_10'].copy()\n",
    "X_test = test[['ab','exit_velocity_avg', 'batting_avg','r_total_stolen_base']].copy()\n",
    "X_test['exit_velocity_avg'] = X_test['exit_velocity_avg'].fillna(X_test['exit_velocity_avg'].median())"
   ]
  },
  {
   "cell_type": "code",
   "execution_count": 3,
   "id": "b635de00-598b-4cda-901e-a8e89d5f5a3c",
   "metadata": {},
   "outputs": [
    {
     "data": {
      "text/html": [
       "<style>#sk-container-id-1 {color: black;}#sk-container-id-1 pre{padding: 0;}#sk-container-id-1 div.sk-toggleable {background-color: white;}#sk-container-id-1 label.sk-toggleable__label {cursor: pointer;display: block;width: 100%;margin-bottom: 0;padding: 0.3em;box-sizing: border-box;text-align: center;}#sk-container-id-1 label.sk-toggleable__label-arrow:before {content: \"▸\";float: left;margin-right: 0.25em;color: #696969;}#sk-container-id-1 label.sk-toggleable__label-arrow:hover:before {color: black;}#sk-container-id-1 div.sk-estimator:hover label.sk-toggleable__label-arrow:before {color: black;}#sk-container-id-1 div.sk-toggleable__content {max-height: 0;max-width: 0;overflow: hidden;text-align: left;background-color: #f0f8ff;}#sk-container-id-1 div.sk-toggleable__content pre {margin: 0.2em;color: black;border-radius: 0.25em;background-color: #f0f8ff;}#sk-container-id-1 input.sk-toggleable__control:checked~div.sk-toggleable__content {max-height: 200px;max-width: 100%;overflow: auto;}#sk-container-id-1 input.sk-toggleable__control:checked~label.sk-toggleable__label-arrow:before {content: \"▾\";}#sk-container-id-1 div.sk-estimator input.sk-toggleable__control:checked~label.sk-toggleable__label {background-color: #d4ebff;}#sk-container-id-1 div.sk-label input.sk-toggleable__control:checked~label.sk-toggleable__label {background-color: #d4ebff;}#sk-container-id-1 input.sk-hidden--visually {border: 0;clip: rect(1px 1px 1px 1px);clip: rect(1px, 1px, 1px, 1px);height: 1px;margin: -1px;overflow: hidden;padding: 0;position: absolute;width: 1px;}#sk-container-id-1 div.sk-estimator {font-family: monospace;background-color: #f0f8ff;border: 1px dotted black;border-radius: 0.25em;box-sizing: border-box;margin-bottom: 0.5em;}#sk-container-id-1 div.sk-estimator:hover {background-color: #d4ebff;}#sk-container-id-1 div.sk-parallel-item::after {content: \"\";width: 100%;border-bottom: 1px solid gray;flex-grow: 1;}#sk-container-id-1 div.sk-label:hover label.sk-toggleable__label {background-color: #d4ebff;}#sk-container-id-1 div.sk-serial::before {content: \"\";position: absolute;border-left: 1px solid gray;box-sizing: border-box;top: 0;bottom: 0;left: 50%;z-index: 0;}#sk-container-id-1 div.sk-serial {display: flex;flex-direction: column;align-items: center;background-color: white;padding-right: 0.2em;padding-left: 0.2em;position: relative;}#sk-container-id-1 div.sk-item {position: relative;z-index: 1;}#sk-container-id-1 div.sk-parallel {display: flex;align-items: stretch;justify-content: center;background-color: white;position: relative;}#sk-container-id-1 div.sk-item::before, #sk-container-id-1 div.sk-parallel-item::before {content: \"\";position: absolute;border-left: 1px solid gray;box-sizing: border-box;top: 0;bottom: 0;left: 50%;z-index: -1;}#sk-container-id-1 div.sk-parallel-item {display: flex;flex-direction: column;z-index: 1;position: relative;background-color: white;}#sk-container-id-1 div.sk-parallel-item:first-child::after {align-self: flex-end;width: 50%;}#sk-container-id-1 div.sk-parallel-item:last-child::after {align-self: flex-start;width: 50%;}#sk-container-id-1 div.sk-parallel-item:only-child::after {width: 0;}#sk-container-id-1 div.sk-dashed-wrapped {border: 1px dashed gray;margin: 0 0.4em 0.5em 0.4em;box-sizing: border-box;padding-bottom: 0.4em;background-color: white;}#sk-container-id-1 div.sk-label label {font-family: monospace;font-weight: bold;display: inline-block;line-height: 1.2em;}#sk-container-id-1 div.sk-label-container {text-align: center;}#sk-container-id-1 div.sk-container {/* jupyter's `normalize.less` sets `[hidden] { display: none; }` but bootstrap.min.css set `[hidden] { display: none !important; }` so we also need the `!important` here to be able to override the default hidden behavior on the sphinx rendered scikit-learn.org. See: https://github.com/scikit-learn/scikit-learn/issues/21755 */display: inline-block !important;position: relative;}#sk-container-id-1 div.sk-text-repr-fallback {display: none;}</style><div id=\"sk-container-id-1\" class=\"sk-top-container\"><div class=\"sk-text-repr-fallback\"><pre>LogisticRegression()</pre><b>In a Jupyter environment, please rerun this cell to show the HTML representation or trust the notebook. <br />On GitHub, the HTML representation is unable to render, please try loading this page with nbviewer.org.</b></div><div class=\"sk-container\" hidden><div class=\"sk-item\"><div class=\"sk-estimator sk-toggleable\"><input class=\"sk-toggleable__control sk-hidden--visually\" id=\"sk-estimator-id-1\" type=\"checkbox\" checked><label for=\"sk-estimator-id-1\" class=\"sk-toggleable__label sk-toggleable__label-arrow\">LogisticRegression</label><div class=\"sk-toggleable__content\"><pre>LogisticRegression()</pre></div></div></div></div></div>"
      ],
      "text/plain": [
       "LogisticRegression()"
      ]
     },
     "execution_count": 3,
     "metadata": {},
     "output_type": "execute_result"
    }
   ],
   "source": [
    "# Fit a logistic regression model to the training data\n",
    "from sklearn.linear_model import LogisticRegression\n",
    "model1 = LogisticRegression()\n",
    "model1.fit(X_train, y_train)"
   ]
  },
  {
   "cell_type": "code",
   "execution_count": 4,
   "id": "5d89183f-912f-4b70-ab81-3efa0a4b6d55",
   "metadata": {},
   "outputs": [
    {
     "data": {
      "text/plain": [
       "array([ True,  True, False, False, False,  True,  True, False, False,\n",
       "        True])"
      ]
     },
     "execution_count": 4,
     "metadata": {},
     "output_type": "execute_result"
    }
   ],
   "source": [
    "# Predictions follow the outcome data type (boolean)\n",
    "pred_test = model1.predict(X_test)\n",
    "pred_test[:10]"
   ]
  },
  {
   "cell_type": "code",
   "execution_count": 5,
   "id": "2dca5850-914b-4fd3-a337-0cf8656e87e8",
   "metadata": {},
   "outputs": [
    {
     "name": "stdout",
     "output_type": "stream",
     "text": [
      "Accuracy: 0.8773\n",
      "Missclassification: 0.1227\n"
     ]
    }
   ],
   "source": [
    "# Simple Accuracy and Misclassification\n",
    "accuracy = accuracy_score(y_test, pred_test)\n",
    "missclass = 1-accuracy \n",
    "print('Accuracy:', round(accuracy,4))\n",
    "print('Missclassification:', round(missclass,4))"
   ]
  },
  {
   "cell_type": "code",
   "execution_count": 6,
   "id": "56930060-b733-4967-8178-984ca0449a6f",
   "metadata": {},
   "outputs": [],
   "source": [
    "# quick function to find accuracy for the next models:\n",
    "def accuracy_missc(model):\n",
    "    pred_test = model.predict(X_test)\n",
    "    accuracy = accuracy_score(y_test, pred_test)\n",
    "    missclass = 1-accuracy \n",
    "    print('Accuracy:', round(accuracy,4))\n",
    "    print('Missclassification:', round(missclass,4))"
   ]
  },
  {
   "cell_type": "code",
   "execution_count": 7,
   "id": "b1581363-2fa1-4263-a6b2-df5434582a23",
   "metadata": {},
   "outputs": [
    {
     "name": "stdout",
     "output_type": "stream",
     "text": [
      "Accuracy: 0.8494\n",
      "Missclassification: 0.1506\n"
     ]
    },
    {
     "name": "stderr",
     "output_type": "stream",
     "text": [
      "/Users/danielferreira/miniconda3/envs/pydata-book/lib/python3.11/site-packages/sklearn/linear_model/_sag.py:350: ConvergenceWarning: The max_iter was reached which means the coef_ did not converge\n",
      "  warnings.warn(\n"
     ]
    }
   ],
   "source": [
    "# The algorithm to find the parameters can be choose using the solver parameter\n",
    "# - 'newton-cg': Newton-Conjugate Gradient\n",
    "# - 'lbfgs': Limited-memory Broyden–Fletcher–Goldfarb–Shanno (Default for the version I used to create this code)\n",
    "# - 'liblinear': Library for Large Linear Classification\n",
    "# - 'sag': Stochastic Average Gradient Descent\n",
    "# - 'saga': SAGA (Stochastic Average Gradient Descent for Logistic Regression)\n",
    "model2 = LogisticRegression(solver='sag')\n",
    "model2.fit(X_train, y_train)\n",
    "accuracy_missc(model2)"
   ]
  },
  {
   "cell_type": "code",
   "execution_count": 8,
   "id": "5ba9dac6-75e9-4e22-8f0d-6051eedbff36",
   "metadata": {},
   "outputs": [
    {
     "name": "stdout",
     "output_type": "stream",
     "text": [
      "Accuracy: 0.8463\n",
      "Missclassification: 0.1537\n"
     ]
    }
   ],
   "source": [
    "# max_iter controls how many iterations the solver have\n",
    "model3 = LogisticRegression(solver='sag',max_iter = 1000)\n",
    "model3.fit(X_train, y_train)\n",
    "accuracy_missc(model3)\n",
    "# For this specific case the not converged model performed better, that means some overfitting is going on"
   ]
  },
  {
   "cell_type": "code",
   "execution_count": 9,
   "id": "068a2dfd-cc28-43aa-9121-5d7a4747ccf4",
   "metadata": {},
   "outputs": [
    {
     "name": "stdout",
     "output_type": "stream",
     "text": [
      "Accuracy: 0.8773\n",
      "Missclassification: 0.1227\n"
     ]
    }
   ],
   "source": [
    "# If you want to reproduce the same results is a good idea to fix the random seed:\n",
    "model4 = LogisticRegression(random_state = 42)\n",
    "model4.fit(X_train, y_train)\n",
    "accuracy_missc(model4)"
   ]
  },
  {
   "cell_type": "code",
   "execution_count": 10,
   "id": "c83554d6-4dfb-437a-bb8a-8bc17ee3575e",
   "metadata": {},
   "outputs": [
    {
     "name": "stdout",
     "output_type": "stream",
     "text": [
      "Accuracy: 0.882\n",
      "Missclassification: 0.118\n"
     ]
    }
   ],
   "source": [
    "# To add polynomial features we can use PolynomialFeatures(). Pipeline can help streamline the steps at once\n",
    "from sklearn.preprocessing import PolynomialFeatures\n",
    "from sklearn.pipeline import make_pipeline\n",
    "model5 = make_pipeline(PolynomialFeatures(2, include_bias=True), LogisticRegression(max_iter=1000))\n",
    "model5.fit(X_train, y_train)\n",
    "accuracy_missc(model5)"
   ]
  },
  {
   "cell_type": "code",
   "execution_count": 11,
   "id": "8b2b1093-3b01-4b7f-8f09-8632167da444",
   "metadata": {},
   "outputs": [
    {
     "name": "stdout",
     "output_type": "stream",
     "text": [
      "Accuracy: 0.8773\n",
      "Missclassification: 0.1227\n"
     ]
    }
   ],
   "source": [
    "# By default, PolynomialFeatures() includes both the squared terms and interaction terms. If you want to exclude quared terms you can use:\n",
    "model6 = make_pipeline(PolynomialFeatures(2, interaction_only=True, include_bias=True), LogisticRegression(max_iter=1000))\n",
    "model6.fit(X_train, y_train)\n",
    "accuracy_missc(model6)"
   ]
  },
  {
   "cell_type": "code",
   "execution_count": 12,
   "id": "c1f9becf-ae56-44ff-8a6c-50cf02b81c3f",
   "metadata": {},
   "outputs": [
    {
     "name": "stdout",
     "output_type": "stream",
     "text": [
      "Accuracy: 0.7609\n",
      "Missclassification: 0.2391\n"
     ]
    }
   ],
   "source": [
    "# Feature Selection: RFE (Recursive Feature Elimination)\n",
    "from sklearn.feature_selection import RFE\n",
    "model_select = LogisticRegression(max_iter=1000)\n",
    "model7 = make_pipeline(RFE(model_select, n_features_to_select=3), LogisticRegression(max_iter=1000))\n",
    "model7.fit(X_train, y_train)\n",
    "accuracy_missc(model7)"
   ]
  },
  {
   "cell_type": "code",
   "execution_count": 13,
   "id": "b9a5e9be-8328-4dfd-9783-6817260c8c38",
   "metadata": {},
   "outputs": [
    {
     "name": "stdout",
     "output_type": "stream",
     "text": [
      "Accuracy: 0.8463\n",
      "Missclassification: 0.1537\n"
     ]
    },
    {
     "data": {
      "text/plain": [
       "array([[ 0.01517405, -0.05345841,  0.        , -0.05839646]])"
      ]
     },
     "execution_count": 13,
     "metadata": {},
     "output_type": "execute_result"
    }
   ],
   "source": [
    " # Feature Selection: L1 penalty also can help\n",
    "model8 = LogisticRegression(penalty='l1', solver='saga', max_iter=1000) # changing solver because of l1 (convex vs non convex)\n",
    "model8.fit(X_train, y_train)\n",
    "accuracy_missc(model8)\n",
    "model8.coef_ # Third coef=0"
   ]
  },
  {
   "cell_type": "code",
   "execution_count": 14,
   "id": "b04561a4-a344-4591-ab33-4db390fcac24",
   "metadata": {},
   "outputs": [],
   "source": [
    "# Bonus: This function can help with simple fit statistics\n",
    "from sklearn.metrics import accuracy_score, classification_report, roc_curve, auc\n",
    "\n",
    "def accuracy_report(model,values_list):\n",
    "    '''This function will assess model performance. Given a sklearn model it will Predict, and measure performance for both Test and Train Data'''\n",
    "    #Train\n",
    "    print('Train Data:\\n-----------')\n",
    "    pred_train = model.predict(X_train)\n",
    "    accuracy_train = accuracy_score(y_train, pred_train)\n",
    "    print('Accuracy:', round(accuracy_train,4))\n",
    "    print(classification_report(y_train, pred_train))\n",
    "    roc_plot(model,X_train,y_train,values_list)\n",
    "    #Test\n",
    "    print('Test Data:\\n----------')\n",
    "    pred_test = model.predict(X_test)\n",
    "    accuracy_test = accuracy_score(y_test, pred_test)\n",
    "    print('Accuracy:', round(accuracy_test,4))\n",
    "    print(classification_report(y_test, pred_test))\n",
    "    roc_plot(model,X_test,y_test,values_list)\n",
    "def roc_plot(model,X_data,y_data,values_list):\n",
    "    y_scores = model.predict_proba(X_data)[:, 1]\n",
    "    y_data = y_data.map({values_list[0]:0,values_list[1]:1})\n",
    "    fpr, tpr, thresholds = roc_curve(y_data, y_scores)\n",
    "    roc_auc = auc(fpr, tpr)\n",
    "    plt.figure(figsize=(3, 2))\n",
    "    plt.plot(fpr, tpr, color='darkorange', lw=2, label='ROC curve (area = %0.2f)' % roc_auc)\n",
    "    plt.plot([0, 1], [0, 1], color='navy', lw=2, linestyle='--')\n",
    "    plt.xlim([0.0, 1.0])\n",
    "    plt.ylim([0.0, 1.05])\n",
    "    plt.xlabel('False Positive Rate')\n",
    "    plt.ylabel('True Positive Rate')\n",
    "    plt.title('Receiver Operating Characteristic')\n",
    "    plt.legend(loc=\"lower right\")\n",
    "    plt.show()"
   ]
  },
  {
   "cell_type": "code",
   "execution_count": 15,
   "id": "1dfc75a8-61f7-464e-8bf1-a60d94522148",
   "metadata": {},
   "outputs": [
    {
     "name": "stdout",
     "output_type": "stream",
     "text": [
      "Train Data:\n",
      "-----------\n",
      "Accuracy: 0.888\n",
      "              precision    recall  f1-score   support\n",
      "\n",
      "       False       0.91      0.93      0.92       508\n",
      "        True       0.84      0.79      0.81       224\n",
      "\n",
      "    accuracy                           0.89       732\n",
      "   macro avg       0.87      0.86      0.87       732\n",
      "weighted avg       0.89      0.89      0.89       732\n",
      "\n"
     ]
    },
    {
     "data": {
      "image/png": "[encoded data removed]",
      "text/plain": [
       "<Figure size 300x200 with 1 Axes>"
      ]
     },
     "metadata": {},
     "output_type": "display_data"
    },
    {
     "name": "stdout",
     "output_type": "stream",
     "text": [
      "Test Data:\n",
      "----------\n",
      "Accuracy: 0.8773\n",
      "              precision    recall  f1-score   support\n",
      "\n",
      "       False       0.93      0.88      0.91       440\n",
      "        True       0.78      0.86      0.82       204\n",
      "\n",
      "    accuracy                           0.88       644\n",
      "   macro avg       0.85      0.87      0.86       644\n",
      "weighted avg       0.88      0.88      0.88       644\n",
      "\n"
     ]
    },
    {
     "data": {
      "image/png": "[encoded data removed]",
      "text/plain": [
       "<Figure size 300x200 with 1 Axes>"
      ]
     },
     "metadata": {},
     "output_type": "display_data"
    }
   ],
   "source": [
    "# Calling the function\n",
    "accuracy_report(model1,[False,True])"
   ]
  }
 ],
 "metadata": {
  "kernelspec": {
   "display_name": "Python 3 (ipykernel)",
   "language": "python",
   "name": "python3"
  },
  "language_info": {
   "codemirror_mode": {
    "name": "ipython",
    "version": 3
   },
   "file_extension": ".py",
   "mimetype": "text/x-python",
   "name": "python",
   "nbconvert_exporter": "python",
   "pygments_lexer": "ipython3",
   "version": "3.11.4"
  }
 },
 "nbformat": 4,
 "nbformat_minor": 5
}
