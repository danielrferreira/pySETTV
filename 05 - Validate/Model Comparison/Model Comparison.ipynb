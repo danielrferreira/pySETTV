{
 "cells": [
  {
   "cell_type": "markdown",
   "metadata": {},
   "source": [
    "# WIP"
   ]
  },
  {
   "cell_type": "code",
   "execution_count": 1,
   "metadata": {},
   "outputs": [],
   "source": [
    "import numpy as np\n",
    "import pandas as pd\n",
    "import seaborn as sns\n",
    "import matplotlib.pyplot as plt\n",
    "from sklearn.metrics import accuracy_score, classification_report, confusion_matrix, roc_curve, auc, mean_squared_error, log_loss\n",
    "from sklearn.linear_model import LogisticRegression\n",
    "from sklearn.neighbors import KNeighborsClassifier\n",
    "from sklearn.ensemble import RandomForestClassifier\n",
    "from sklearn.preprocessing import MinMaxScaler\n",
    "from sklearn.tree import DecisionTreeClassifier\n",
    "import model_comp as mc \n",
    "\n",
    "folder = '/Users/danielferreira/Documents/git/pySETTV/06 - Utility & References/Data'\n",
    "file = 'player_batting_enriched.csv'\n",
    "index = 'player_id'\n",
    "bat = pd.read_csv(folder+'/'+file, index_col=index)\n",
    "train = bat[bat['year']==2021]\n",
    "test = bat[bat['year']==2022]\n",
    "y_train = train['hr_10'].copy()\n",
    "y_test = test['hr_10'].copy()"
   ]
  },
  {
   "cell_type": "code",
   "execution_count": 2,
   "metadata": {},
   "outputs": [],
   "source": [
    "# Model 1 - Logistic Regression without the variable that contains missing\n",
    "X_train = train[['ab', 'batting_avg','r_total_stolen_base']].copy()\n",
    "X_test = test[['ab', 'batting_avg','r_total_stolen_base']].copy()\n",
    "\n",
    "model1 = LogisticRegression()\n",
    "model1.fit(X_train, y_train)\n",
    "model1_pred_train = model1.predict(X_train)\n",
    "model1_prob_train = model1.predict_proba(X_train)[:,1]\n",
    "model1_pred_test = model1.predict(X_test)\n",
    "model1_prob_test = model1.predict_proba(X_test)[:,1]\n",
    "\n",
    "\n",
    "# Model 2 - KNN\n",
    "scaler = MinMaxScaler()\n",
    "X_train = scaler.fit_transform(X_train)\n",
    "X_test = scaler.fit_transform(X_test)\n",
    "\n",
    "model2 = KNeighborsClassifier()\n",
    "model2.fit(X_train, y_train)\n",
    "model2_pred_train = model2.predict(X_train)\n",
    "model2_prob_train = model2.predict_proba(X_train)[:,1]\n",
    "model2_pred_test = model2.predict(X_test)\n",
    "model2_prob_test = model2.predict_proba(X_test)[:,1]\n",
    "\n",
    "# Model 3 - Logistic Regression with missing imputation\n",
    "X_train = train[['ab','exit_velocity_avg', 'batting_avg','r_total_stolen_base']].copy()\n",
    "X_train['exit_velocity_avg'] = X_train['exit_velocity_avg'].fillna(X_train['exit_velocity_avg'].median())\n",
    "X_test = test[['ab','exit_velocity_avg', 'batting_avg','r_total_stolen_base']].copy()\n",
    "X_test['exit_velocity_avg'] = X_test['exit_velocity_avg'].fillna(X_test['exit_velocity_avg'].median())\n",
    "\n",
    "model3 = LogisticRegression()\n",
    "model3.fit(X_train, y_train)\n",
    "model3_pred = model3.predict(X_test)\n",
    "model3_prob = model3.predict_proba(X_test)\n",
    "\n",
    "# Model 4 - Decision Tree\n",
    "model4 = DecisionTreeClassifier(max_depth=3, min_samples_split=30, min_samples_leaf = 20, max_features=3)\n",
    "model4.fit(X_train, y_train)\n",
    "model4_pred = model4.predict(X_test)\n",
    "model4_prob = model4.predict_proba(X_test)\n",
    "\n",
    "# Model 5 - Random Forest\n",
    "model5 = RandomForestClassifier(random_state=42)\n",
    "model5.fit(X_train,y_train)\n",
    "model5_pred = model5.predict(X_test)\n",
    "model5_prob = model5.predict_proba(X_test)"
   ]
  },
  {
   "cell_type": "code",
   "execution_count": 3,
   "metadata": {},
   "outputs": [],
   "source": [
    "import model_comparison as mc \n",
    "problem = mc.problem(\"2022 Home Runs\")"
   ]
  },
  {
   "cell_type": "code",
   "execution_count": 4,
   "metadata": {},
   "outputs": [
    {
     "data": {
      "text/plain": [
       "{'model_name': 'Logistic Regression no imputation',\n",
       " 'ds': 'Test',\n",
       " 'acc': np.float64(0.8540372670807453),\n",
       " 'miss': np.float64(0.14596273291925466),\n",
       " 'precision_1': np.float64(0.7412280701754386),\n",
       " 'precision_0': np.float64(0.9158653846153846),\n",
       " 'recall_1': np.float64(0.8284313725490197),\n",
       " 'recall_0': np.float64(0.865909090909091),\n",
       " 'f1_1': np.float64(0.7824074074074074),\n",
       " 'f1_0': np.float64(0.8901869158878505),\n",
       " 'roc_auc': np.float64(0.9339460784313725),\n",
       " 'ase': np.float64(0.10235604669628749),\n",
       " 'log_loss_value': np.float64(0.3185214076545152)}"
      ]
     },
     "execution_count": 4,
     "metadata": {},
     "output_type": "execute_result"
    }
   ],
   "source": [
    "problem.stats_1_model_ds(y_test, model1_pred_test, model1_prob_test, 'Logistic Regression no imputation', 'Test')"
   ]
  },
  {
   "cell_type": "code",
   "execution_count": 5,
   "metadata": {},
   "outputs": [
    {
     "data": {
      "text/html": [
       "<div>\n",
       "<style scoped>\n",
       "    .dataframe tbody tr th:only-of-type {\n",
       "        vertical-align: middle;\n",
       "    }\n",
       "\n",
       "    .dataframe tbody tr th {\n",
       "        vertical-align: top;\n",
       "    }\n",
       "\n",
       "    .dataframe thead th {\n",
       "        text-align: right;\n",
       "    }\n",
       "</style>\n",
       "<table border=\"1\" class=\"dataframe\">\n",
       "  <thead>\n",
       "    <tr style=\"text-align: right;\">\n",
       "      <th></th>\n",
       "      <th>model_name</th>\n",
       "      <th>ds</th>\n",
       "      <th>acc</th>\n",
       "      <th>miss</th>\n",
       "      <th>precision_1</th>\n",
       "      <th>precision_0</th>\n",
       "      <th>recall_1</th>\n",
       "      <th>recall_0</th>\n",
       "      <th>f1_1</th>\n",
       "      <th>f1_0</th>\n",
       "      <th>roc_auc</th>\n",
       "      <th>ase</th>\n",
       "      <th>log_loss_value</th>\n",
       "    </tr>\n",
       "  </thead>\n",
       "  <tbody>\n",
       "    <tr>\n",
       "      <th>0</th>\n",
       "      <td>Logistic Regression no imputation</td>\n",
       "      <td>Train</td>\n",
       "      <td>0.881148</td>\n",
       "      <td>0.118852</td>\n",
       "      <td>0.830918</td>\n",
       "      <td>0.900952</td>\n",
       "      <td>0.767857</td>\n",
       "      <td>0.931102</td>\n",
       "      <td>0.798144</td>\n",
       "      <td>0.915779</td>\n",
       "      <td>0.948239</td>\n",
       "      <td>0.085915</td>\n",
       "      <td>0.276115</td>\n",
       "    </tr>\n",
       "    <tr>\n",
       "      <th>1</th>\n",
       "      <td>Logistic Regression no imputation</td>\n",
       "      <td>Test</td>\n",
       "      <td>0.854037</td>\n",
       "      <td>0.145963</td>\n",
       "      <td>0.741228</td>\n",
       "      <td>0.915865</td>\n",
       "      <td>0.828431</td>\n",
       "      <td>0.865909</td>\n",
       "      <td>0.782407</td>\n",
       "      <td>0.890187</td>\n",
       "      <td>0.933946</td>\n",
       "      <td>0.102356</td>\n",
       "      <td>0.318521</td>\n",
       "    </tr>\n",
       "  </tbody>\n",
       "</table>\n",
       "</div>"
      ],
      "text/plain": [
       "                          model_name     ds       acc      miss  precision_1  \\\n",
       "0  Logistic Regression no imputation  Train  0.881148  0.118852     0.830918   \n",
       "1  Logistic Regression no imputation   Test  0.854037  0.145963     0.741228   \n",
       "\n",
       "   precision_0  recall_1  recall_0      f1_1      f1_0   roc_auc       ase  \\\n",
       "0     0.900952  0.767857  0.931102  0.798144  0.915779  0.948239  0.085915   \n",
       "1     0.915865  0.828431  0.865909  0.782407  0.890187  0.933946  0.102356   \n",
       "\n",
       "   log_loss_value  \n",
       "0        0.276115  \n",
       "1        0.318521  "
      ]
     },
     "execution_count": 5,
     "metadata": {},
     "output_type": "execute_result"
    }
   ],
   "source": [
    "y = [y_train, y_test]\n",
    "y_pred = [model1_pred_train, model1_pred_test]\n",
    "y_prob = [model1_prob_train, model1_prob_test]\n",
    "\n",
    "problem.stats_1_model(y,y_pred,y_prob,'Logistic Regression no imputation', ['Train','Test'])"
   ]
  }
 ],
 "metadata": {
  "kernelspec": {
   "display_name": "base",
   "language": "python",
   "name": "python3"
  },
  "language_info": {
   "codemirror_mode": {
    "name": "ipython",
    "version": 3
   },
   "file_extension": ".py",
   "mimetype": "text/x-python",
   "name": "python",
   "nbconvert_exporter": "python",
   "pygments_lexer": "ipython3",
   "version": "3.11.10"
  }
 },
 "nbformat": 4,
 "nbformat_minor": 2
}
