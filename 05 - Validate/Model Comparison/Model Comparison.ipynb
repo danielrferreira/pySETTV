{
 "cells": [
  {
   "cell_type": "code",
   "execution_count": 2,
   "metadata": {},
   "outputs": [],
   "source": [
    "import numpy as np\n",
    "import pandas as pd\n",
    "import seaborn as sns\n",
    "import matplotlib.pyplot as plt\n",
    "from sklearn.metrics import accuracy_score, classification_report, confusion_matrix\n",
    "from sklearn.linear_model import LogisticRegression\n",
    "from sklearn.neighbors import KNeighborsClassifier\n",
    "from sklearn.ensemble import RandomForestClassifier\n",
    "from sklearn.preprocessing import MinMaxScaler\n",
    "from sklearn.tree import DecisionTreeClassifier\n",
    "import os\n",
    "\n",
    "folder = '/Users/danielferreira/Documents/git/pySETTV/06 - Utility & References/Data'\n",
    "file = 'player_batting_enriched.csv'\n",
    "index = 'player_id'\n",
    "os.chdir(folder)\n",
    "bat = pd.read_csv(file, index_col=index)\n",
    "train = bat[bat['year']==2021]\n",
    "test = bat[bat['year']==2022]\n",
    "y_train = train['hr_10'].copy()\n",
    "y_test = test['hr_10'].copy()"
   ]
  },
  {
   "cell_type": "code",
   "execution_count": null,
   "metadata": {},
   "outputs": [],
   "source": [
    "# Model 1 - Logistic Regression with missing imputation\n",
    "X_train = train[['ab','exit_velocity_avg', 'batting_avg','r_total_stolen_base']].copy()\n",
    "X_train['exit_velocity_avg'] = X_train['exit_velocity_avg'].fillna(X_train['exit_velocity_avg'].median())\n",
    "X_test = test[['ab','exit_velocity_avg', 'batting_avg','r_total_stolen_base']].copy()\n",
    "X_test['exit_velocity_avg'] = X_test['exit_velocity_avg'].fillna(X_test['exit_velocity_avg'].median())\n",
    "\n",
    "model1 = LogisticRegression()\n",
    "model1.fit(X_train, y_train)\n",
    "model1_pred = model1.predict(X_test)\n",
    "\n",
    "# Model 2 - Logistic Regression without the variable that contains missing\n",
    "X_train = train[['ab', 'batting_avg','r_total_stolen_base']].copy()\n",
    "X_test = test[['ab', 'batting_avg','r_total_stolen_base']].copy()\n",
    "\n",
    "model2 = LogisticRegression()\n",
    "model2.fit(X_train, y_train)\n",
    "model2_pred = model2.predict(X_test)\n",
    "\n",
    "# Model 3 - KNN\n",
    "scaler = MinMaxScaler()\n",
    "X_train = scaler.fit_transform(X_train)\n",
    "X_test = scaler.fit_transform(X_test)\n",
    "\n",
    "model3 = KNeighborsClassifier()\n",
    "model3.fit(X_train, y_train)\n",
    "model3_pred = model3.predict(X_test)\n",
    "\n",
    "# Model 4 \n"
   ]
  },
  {
   "cell_type": "code",
   "execution_count": null,
   "metadata": {},
   "outputs": [],
   "source": [
    "\n",
    "def stats_v1(y, pred):\n",
    "    cm = confusion_matrix(y, pred)\n",
    "    acc = (cm[0,0]+cm[1,1])/cm.sum()\n",
    "    miss = 1-acc\n",
    "    TP = cm[1,1] \n",
    "    FP = cm[0,1]\n",
    "    TN = cm[0,0]\n",
    "    FN = cm[1,0]\n",
    "    precision_1 = TP / (TP+FP)\n",
    "    precision_0 = TN / (TN+FN)\n",
    "    recall_1 = TP / (TP+FN)\n",
    "    recall_0 = TN / (TN+FP)\n",
    "    metrics = [acc,miss,precision_1,precision_0,recall_1,recall_0]\n",
    "    for i, metric_name in zip(metrics, ['Accuracy', 'Miss Rate', 'Precision (Class 1)', 'Precision (Class 0)', 'Recall (Class 1)', 'Recall (Class 0)']):\n",
    "        print(f'{metric_name}: {round(i,3)}')"
   ]
  },
  {
   "cell_type": "code",
   "execution_count": 10,
   "metadata": {},
   "outputs": [
    {
     "name": "stdout",
     "output_type": "stream",
     "text": [
      "Accuracy: 0.877\n",
      "Miss Rate: 0.123\n",
      "Precision (Class 1): 0.775\n",
      "Precision (Class 0): 0.933\n",
      "Recall (Class 1): 0.863\n",
      "Recall (Class 0): 0.884\n"
     ]
    }
   ],
   "source": [
    "stats_v1(y_test,model1_pred)"
   ]
  },
  {
   "cell_type": "code",
   "execution_count": 14,
   "metadata": {},
   "outputs": [
    {
     "name": "stdout",
     "output_type": "stream",
     "text": [
      "Accuracy: 0.854\n",
      "Miss Rate: 0.146\n",
      "Precision (Class 1): 0.741\n",
      "Precision (Class 0): 0.916\n",
      "Recall (Class 1): 0.828\n",
      "Recall (Class 0): 0.866\n"
     ]
    }
   ],
   "source": [
    "stats_v1(y_test,model2_pred)"
   ]
  },
  {
   "cell_type": "code",
   "execution_count": 18,
   "metadata": {},
   "outputs": [],
   "source": [
    "from sklearn.preprocessing import MinMaxScaler\n",
    "scaler = MinMaxScaler()\n",
    "X_train = scaler.fit_transform(X_train)\n",
    "X_test = scaler.fit_transform(X_test)\n",
    "\n",
    "model3 = KNeighborsClassifier()\n",
    "model3.fit(X_train, y_train)\n",
    "model3_pred = model3.predict(X_test)"
   ]
  },
  {
   "cell_type": "code",
   "execution_count": 19,
   "metadata": {},
   "outputs": [
    {
     "name": "stdout",
     "output_type": "stream",
     "text": [
      "Accuracy: 0.839\n",
      "Miss Rate: 0.161\n",
      "Precision (Class 1): 0.692\n",
      "Precision (Class 0): 0.938\n",
      "Recall (Class 1): 0.882\n",
      "Recall (Class 0): 0.818\n"
     ]
    }
   ],
   "source": [
    "stats_v1(y_test,model3_pred)"
   ]
  },
  {
   "cell_type": "code",
   "execution_count": null,
   "metadata": {},
   "outputs": [],
   "source": [
    "# Simple Decision Tree \n",
    "model1 = DecisionTreeClassifier(max_depth=3, min_samples_split=30, min_samples_leaf = 20, max_features=3)\n",
    "model1.fit(X_train, y_train)\n",
    "pred_test = model1.predict(X_test)\n",
    "print(accuracy_score(pred_test, y_test))\n",
    "plt.figure(figsize=(12, 8))\n",
    "plot_tree(model1, feature_names=list(X_train.columns), class_names=['<10','>=10'])\n",
    "plt.show()\n",
    "\n",
    "#%%\n",
    "# Default Random Forest\n",
    "model2 = RandomForestClassifier(random_state=42)\n",
    "model2.fit(X_train,y_train)\n",
    "pred_test = model2.predict(X_test)\n",
    "accuracy_score(pred_test, y_test)"
   ]
  }
 ],
 "metadata": {
  "kernelspec": {
   "display_name": "base",
   "language": "python",
   "name": "python3"
  },
  "language_info": {
   "codemirror_mode": {
    "name": "ipython",
    "version": 3
   },
   "file_extension": ".py",
   "mimetype": "text/x-python",
   "name": "python",
   "nbconvert_exporter": "python",
   "pygments_lexer": "ipython3",
   "version": "3.11.10"
  }
 },
 "nbformat": 4,
 "nbformat_minor": 2
}
